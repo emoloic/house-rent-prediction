{
 "cells": [
  {
   "cell_type": "code",
   "execution_count": null,
   "id": "0f18e967",
   "metadata": {},
   "outputs": [],
   "source": [
    "!python --version"
   ]
  },
  {
   "cell_type": "code",
   "execution_count": 5,
   "id": "eed199bc",
   "metadata": {},
   "outputs": [],
   "source": [
    "import os\n",
    "import pickle\n",
    "import pandas as pd\n",
    "import numpy as np\n",
    "from datetime import datetime\n",
    "\n",
    "from sklearn.feature_extraction import DictVectorizer\n",
    "\n",
    "from sklearn.preprocessing import StandardScaler\n",
    "from sklearn.ensemble import RandomForestRegressor\n",
    "from sklearn.metrics import mean_squared_error, r2_score\n",
    "\n",
    "from sklearn.model_selection import train_test_split\n",
    "\n",
    "import xgboost as xgb\n",
    "\n",
    "from hyperopt import fmin, tpe, hp, STATUS_OK, Trials\n",
    "from hyperopt.pyll import scope\n",
    "\n",
    "import mlflow\n",
    "from mlflow.entities import ViewType\n",
    "from mlflow.tracking import MlflowClient"
   ]
  },
  {
   "cell_type": "code",
   "execution_count": 6,
   "id": "025d8d3e",
   "metadata": {},
   "outputs": [],
   "source": [
    "TRACKING_SERVER_HOST = os.getenv(\"TRACKING_SERVER_HOST\",\"localhost\")\n",
    "TRACKING_SERVER_PORT = os.getenv(\"TRACKING_SERVER_PORT\",\"5000\")\n",
    "EXPERIMENT_NAME = os.getenv(\"EXPERIMENT_NAME\", \"house-price-prediction\")\n",
    "MODEL_REGISTRY_NAME = os.getenv(\"EXPERIMENT_NAME\", \"house-price-prediction-model\")\n",
    "DATA_PATH = \"../data/House_Rent_Dataset.csv\""
   ]
  },
  {
   "cell_type": "code",
   "execution_count": 7,
   "id": "af4a8ebd",
   "metadata": {},
   "outputs": [],
   "source": [
    "def load_data(filename):\n",
    "    df = pd.read_csv(filename, sep=',')\n",
    "    \n",
    "    # Feature engineering of the column 'floor'\n",
    "    df['Total Floors'] = [i.split()[-1] for i in df['Floor']]\n",
    "    df['Floor'] = [i.split()[0] for i in df['Floor']]\n",
    "    df['Total Floors'] = df['Total Floors'].replace({'Ground': '1'})\n",
    "    df['Total Floors'] = df['Total Floors'].astype(int)\n",
    "    df['Floor'].replace({'Ground': '0', 'Lower': '-1'}, inplace = True)\n",
    "    \n",
    "    for i, floor in zip(range(df.shape[0]), df['Floor']):\n",
    "        if floor == 'Upper':\n",
    "            df.at[i,'Floor']= df.at[i, 'Total Floors']\n",
    "    df['Floor'] = df['Floor'].astype(int)\n",
    "    \n",
    "    # Remove outliers\n",
    "    df = df[df['Rent']<3000000]\n",
    "    df = df[df['Bathroom']<10]\n",
    "    df = df[~df['Area Type'].str.contains(\"Built Area\")]\n",
    "    df = df[~df['Point of Contact'].str.contains(\"Contact Builder\")]\n",
    "    \n",
    "    return df"
   ]
  },
  {
   "cell_type": "code",
   "execution_count": 8,
   "id": "89b28e45",
   "metadata": {},
   "outputs": [],
   "source": [
    "def split_data(df):\n",
    "    df_train, df_val = train_test_split(df, test_size=0.2, random_state=42,\n",
    "                                        stratify=df[['City', 'Furnishing Status', 'Area Type', 'Point of Contact']])\n",
    "    return df_train, df_val"
   ]
  },
  {
   "cell_type": "code",
   "execution_count": 9,
   "id": "b9b72f2a",
   "metadata": {},
   "outputs": [],
   "source": [
    "def prepare_data(df_train, df_val):\n",
    "\n",
    "    selected_columns = ['BHK', 'Rent', 'Size', 'Area Type', 'City', 'Furnishing Status',\n",
    "                        'Tenant Preferred', 'Bathroom', 'Floor', 'Total Floors', 'Point of Contact']\n",
    "    \n",
    "    df_train = df_train[selected_columns]\n",
    "    df_val = df_val[selected_columns]\n",
    "    \n",
    "    dv = DictVectorizer(sparse=False)\n",
    "    \n",
    "    features = ['BHK', 'Size', 'Area Type', 'City', 'Furnishing Status',\n",
    "                'Tenant Preferred', 'Bathroom', 'Floor', 'Total Floors', 'Point of Contact']\n",
    "\n",
    "    train_dicts = df_train[features].to_dict(orient='records')\n",
    "    X_train = dv.fit_transform(train_dicts)\n",
    "\n",
    "    val_dicts = df_val[features].to_dict(orient='records')\n",
    "    X_val = dv.transform(val_dicts)\n",
    "\n",
    "    target = 'Rent'\n",
    "    y_train = df_train[target].values\n",
    "    y_val = df_val[target].values\n",
    "\n",
    "    return X_train, X_val, y_train, y_val, dv"
   ]
  },
  {
   "cell_type": "code",
   "execution_count": null,
   "id": "3f4d633e",
   "metadata": {},
   "outputs": [],
   "source": [
    "def train_model_xgboost_search(train, valid, y_val, dv, sc):\n",
    "    mlflow.xgboost.autolog()\n",
    "    def objective(params):\n",
    "        with mlflow.start_run():\n",
    "            mlflow.set_tag(\"model\", \"xgboost\")\n",
    "            mlflow.log_param(\"train_data\",DATA_PATH)\n",
    "            booster = xgb.train(\n",
    "                params=params,\n",
    "                dtrain=train,\n",
    "                num_boost_round=100,\n",
    "                evals=[(valid, 'validation')],\n",
    "                early_stopping_rounds=50\n",
    "            )\n",
    "            y_pred = booster.predict(valid)\n",
    "            rmse = mean_squared_error(y_val, y_pred, squared=False)\n",
    "            r2score = r2_score(y_val, y_pred)\n",
    "            mlflow.log_metric(\"rmse\", rmse)\n",
    "            mlflow.log_metric(\"r2_score\", r2score)\n",
    "            \n",
    "            with open(\"preprocessor/preprocessor.b\", \"wb\") as f_out:\n",
    "                pickle.dump((dv,sc), f_out)\n",
    "                \n",
    "            mlflow.log_artifact(\"preprocessor/preprocessor.b\", artifact_path=\"preprocessor\")\n",
    "\n",
    "        return {'loss': rmse, 'status': STATUS_OK}\n",
    "\n",
    "    search_space = {\n",
    "        'max_depth': scope.int(hp.uniform('max_depth', 1, 60)),\n",
    "        'learning_rate': hp.loguniform('learning_rate', 0.01, 0.4),\n",
    "        'reg_alpha': hp.loguniform('reg_alpha', -5, -1),\n",
    "        'reg_lambda': hp.loguniform('reg_lambda', -6, -1),\n",
    "        'min_child_weight': hp.loguniform('min_child_weight', -1, 9),\n",
    "        'objective': 'reg:squarederror'\n",
    "    }\n",
    "    \n",
    "    rstate = np.random.default_rng(42) # for reproducible results\n",
    "    best_result = fmin(\n",
    "        fn=objective,\n",
    "        space=search_space,\n",
    "        algo=tpe.suggest,\n",
    "        max_evals=200,\n",
    "        trials=Trials(),\n",
    "        rstate=rstate\n",
    "    )\n",
    "    return"
   ]
  },
  {
   "cell_type": "code",
   "execution_count": null,
   "id": "0ef97a96",
   "metadata": {},
   "outputs": [],
   "source": [
    "def train_model_rf_search(X_train, X_val, y_train, y_val, dv, sc):\n",
    "    mlflow.sklearn.autolog()\n",
    "    def objective(params):\n",
    "        with mlflow.start_run():\n",
    "            mlflow.set_tag(\"model\", \"rf\")\n",
    "            mlflow.log_param(\"train_data\",DATA_PATH)\n",
    "            rf_model = RandomForestRegressor(**params)\n",
    "            rf_model.fit(X_train, y_train)\n",
    "            y_pred = rf_model.predict(X_val)\n",
    "            rmse = mean_squared_error(y_val, y_pred, squared=False)\n",
    "            r2score = r2_score(y_val, y_pred)\n",
    "            mlflow.log_metric(\"rmse\", rmse)\n",
    "            mlflow.log_metric(\"r2_score\", r2score)\n",
    "            \n",
    "            with open(\"preprocessor/preprocessor.b\", \"wb\") as f_out:\n",
    "                pickle.dump((dv, sc), f_out)\n",
    "                \n",
    "            mlflow.log_artifact(\"preprocessor/preprocessor.b\", artifact_path=\"preprocessor\")\n",
    "\n",
    "        return {'loss': rmse, 'status': STATUS_OK}\n",
    "\n",
    "    search_space = {\n",
    "        'n_estimators' : scope.int(hp.uniform('n_estimators',10,150)),\n",
    "        'max_depth' : scope.int(hp.uniform('max_depth',1,40)),\n",
    "        'min_samples_leaf' : scope.int(hp.uniform('min_samples_leaf',1,10)),\n",
    "        'min_samples_split' : scope.int(hp.uniform('min_samples_split',2,10)),\n",
    "        'random_state' : 42\n",
    "    }\n",
    "    \n",
    "    rstate = np.random.default_rng(42)  # for reproducible results\n",
    "    best_result =  fmin(\n",
    "        fn=objective,\n",
    "        space=search_space,\n",
    "        algo=tpe.suggest,\n",
    "        max_evals=200,\n",
    "        trials=Trials(),\n",
    "        rstate=rstate\n",
    "    )\n",
    "    return"
   ]
  },
  {
   "cell_type": "code",
   "execution_count": 4,
   "id": "c19f2004",
   "metadata": {},
   "outputs": [],
   "source": [
    "def register_best_model():\n",
    "    \n",
    "    client = MlflowClient()\n",
    "    experiment = client.get_experiment_by_name(EXPERIMENT_NAME)\n",
    "    best_run = client.search_runs(\n",
    "        experiment_ids=experiment.experiment_id,\n",
    "        run_view_type=ViewType.ACTIVE_ONLY,\n",
    "        max_results=1,\n",
    "        order_by=[\"metrics.rmse ASC\"]\n",
    "    )[0]\n",
    "    \n",
    "    # register the best model\n",
    "    run_id = best_run.info.run_id\n",
    "    model_uri = f\"runs:/{run_id}/model\"\n",
    "    model_rmse = best_run.data.metrics['rmse']\n",
    "    model_details = mlflow.register_model(model_uri=model_uri, name=MODEL_REGISTRY_NAME)\n",
    "\n",
    "    date = datetime.today().date()\n",
    "    \n",
    "    # transition of our best model in \"Production\"\n",
    "    client.transition_model_version_stage(\n",
    "        name=model_details.name,\n",
    "        version=model_details.version,\n",
    "        stage=\"Production\",\n",
    "        archive_existing_versions=True\n",
    "    )\n",
    "    \n",
    "    client.update_model_version(\n",
    "        name=model_details.name,\n",
    "        version=model_details.version,\n",
    "        description=f\"The model version {model_details.version} was transitioned to Production on {date}\"\n",
    "    )\n",
    "    \n",
    "    client.update_registered_model(\n",
    "      name=model_details.name,\n",
    "      description=f\"Current model version in production: {model_details.version}, rmse: {model_rmse}\"\n",
    "    )"
   ]
  },
  {
   "cell_type": "code",
   "execution_count": null,
   "id": "03118821",
   "metadata": {},
   "outputs": [],
   "source": [
    "mlflow.set_tracking_uri(f\"http://{TRACKING_SERVER_HOST}:{TRACKING_SERVER_PORT}\")\n",
    "mlflow.set_experiment(EXPERIMENT_NAME)"
   ]
  },
  {
   "cell_type": "code",
   "execution_count": null,
   "id": "584bc6cb",
   "metadata": {},
   "outputs": [],
   "source": [
    "df = load_data(DATA_PATH)\n",
    "df_train, df_val = split_data(df)\n",
    "X_train, X_val, y_train, y_val, dv = prepare_data(df_train, df_val)\n",
    "sc = StandardScaler()\n",
    "X_train = sc.fit_transform(X_train)\n",
    "X_val = sc.transform(X_val)"
   ]
  },
  {
   "cell_type": "code",
   "execution_count": null,
   "id": "5fa2313a",
   "metadata": {},
   "outputs": [],
   "source": [
    "train = xgb.DMatrix(X_train, label=y_train)\n",
    "valid = xgb.DMatrix(X_val, label=y_val)"
   ]
  },
  {
   "cell_type": "code",
   "execution_count": null,
   "id": "3b08ab9a",
   "metadata": {
    "scrolled": true
   },
   "outputs": [],
   "source": [
    "train_model_xgboost_search(train, valid, y_val, dv, sc)\n",
    "train_model_rf_search(X_train, X_val, y_train, y_val, dv, sc)"
   ]
  },
  {
   "cell_type": "code",
   "execution_count": null,
   "id": "8279bc26",
   "metadata": {
    "scrolled": false
   },
   "outputs": [],
   "source": [
    "register_best_model()"
   ]
  },
  {
   "cell_type": "markdown",
   "id": "29216e59",
   "metadata": {},
   "source": [
    "#### Interacting with the Model Registry"
   ]
  },
  {
   "cell_type": "code",
   "execution_count": null,
   "id": "e12b843e",
   "metadata": {},
   "outputs": [],
   "source": [
    "client = MlflowClient(tracking_uri=f\"http://{TRACKING_SERVER_HOST}:{TRACKING_SERVER_PORT}\")"
   ]
  },
  {
   "cell_type": "code",
   "execution_count": null,
   "id": "651a9ce3",
   "metadata": {},
   "outputs": [],
   "source": [
    "experiment = client.get_experiment_by_name(EXPERIMENT_NAME)\n",
    "best_run = client.search_runs(\n",
    "    experiment_ids=experiment.experiment_id,\n",
    "    run_view_type=ViewType.ACTIVE_ONLY,\n",
    "    max_results=1,\n",
    "    order_by=[\"metrics.rmse ASC\"]\n",
    ")[0]"
   ]
  },
  {
   "cell_type": "code",
   "execution_count": null,
   "id": "24e3edc9",
   "metadata": {},
   "outputs": [],
   "source": [
    "run_id = best_run.info.run_id"
   ]
  },
  {
   "cell_type": "code",
   "execution_count": null,
   "id": "55ae6776",
   "metadata": {},
   "outputs": [],
   "source": [
    "# Download model artifact\n",
    "client.download_artifacts(run_id=run_id, path='model/model.pkl', dst_path='.')"
   ]
  },
  {
   "cell_type": "code",
   "execution_count": null,
   "id": "2ec07851",
   "metadata": {},
   "outputs": [],
   "source": [
    "client.list_experiments()"
   ]
  },
  {
   "cell_type": "code",
   "execution_count": null,
   "id": "708c522c",
   "metadata": {},
   "outputs": [],
   "source": [
    "client.list_registered_models()"
   ]
  },
  {
   "cell_type": "code",
   "execution_count": 10,
   "id": "94a563c7",
   "metadata": {},
   "outputs": [],
   "source": [
    "model_uri = f\"models:/{MODEL_REGISTRY_NAME}/latest\""
   ]
  },
  {
   "cell_type": "code",
   "execution_count": null,
   "id": "c8907b0b",
   "metadata": {},
   "outputs": [],
   "source": [
    "# Load model as a PyFuncModel.\n",
    "loaded_model = mlflow.pyfunc.load_model(model_uri)"
   ]
  },
  {
   "cell_type": "code",
   "execution_count": null,
   "id": "fdaf6eb0",
   "metadata": {},
   "outputs": [],
   "source": [
    "# Prediction of a house rent price.\n",
    "house_data = {\n",
    "    'BHK': 3,\n",
    "    'Size' : 1000,\n",
    "    'Area Type' : 'Carpet Area',\n",
    "    'City' : 'Mumbai',\n",
    "    'Furnishing Status' : 'Furnished',\n",
    "    'Tenant Preferred' : 'Bachelors/Family',\n",
    "    'Bathroom' : 2,\n",
    "    'Floor' : 5,\n",
    "    'Total Floors' : 15,\n",
    "    'Point of Contact' : 'Contact Agent'\n",
    "}"
   ]
  },
  {
   "cell_type": "code",
   "execution_count": null,
   "id": "e932cb91",
   "metadata": {},
   "outputs": [],
   "source": [
    "with open(\"preprocessor/preprocessor.b\", \"rb\") as f_in:\n",
    "    dv, sc = pickel.load(f_in)"
   ]
  },
  {
   "cell_type": "code",
   "execution_count": null,
   "id": "b8b0fb67",
   "metadata": {},
   "outputs": [],
   "source": [
    "X = dv.transform(house_data)\n",
    "X = sc.transform(X)\n",
    "price_prediction = loaded_model.predict(X)"
   ]
  },
  {
   "cell_type": "code",
   "execution_count": 12,
   "id": "2dfee58f",
   "metadata": {},
   "outputs": [],
   "source": [
    "print(f\"The predicted price for renting this house is {np.int(price_prediction[0])}\")"
   ]
  }
 ],
 "metadata": {
  "kernelspec": {
   "display_name": "Python 3 (ipykernel)",
   "language": "python",
   "name": "python3"
  },
  "language_info": {
   "codemirror_mode": {
    "name": "ipython",
    "version": 3
   },
   "file_extension": ".py",
   "mimetype": "text/x-python",
   "name": "python",
   "nbconvert_exporter": "python",
   "pygments_lexer": "ipython3",
   "version": "3.10.4"
  },
  "vscode": {
   "interpreter": {
    "hash": "94ddce9a02a18ced31f790b1d3d81216c2bfa628e7333f5ea0e837e0f0cbcefd"
   }
  }
 },
 "nbformat": 4,
 "nbformat_minor": 5
}
